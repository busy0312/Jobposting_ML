{
 "cells": [
  {
   "cell_type": "code",
   "execution_count": 1,
   "metadata": {},
   "outputs": [],
   "source": [
    "from bs4 import BeautifulSoup\n",
    "import requests"
   ]
  },
  {
   "cell_type": "code",
   "execution_count": 2,
   "metadata": {},
   "outputs": [],
   "source": [
    "url='https://www.indeed.com/jobs?q=engineering&l='\n",
    "response = requests.get(url)\n",
    "soup = BeautifulSoup(response.text, 'html.parser')"
   ]
  },
  {
   "cell_type": "code",
   "execution_count": 3,
   "metadata": {},
   "outputs": [],
   "source": [
    "results = soup.find_all('div', class_=\"jobsearch-SerpJobCard\")"
   ]
  },
  {
   "cell_type": "code",
   "execution_count": 4,
   "metadata": {},
   "outputs": [
    {
     "name": "stdout",
     "output_type": "stream",
     "text": [
      "-------------\n",
      "\n",
      "Motivated junior/senior electrical engineering student\n",
      "Please respond with background information and any work experience.\n",
      "-------------\n",
      "\n",
      "Project Engineer\n",
      "All Project Engineers are encouraged to learn Project Manager skills through taking on project responsibilities as directed by the Project Manager and…\n",
      "-------------\n",
      "\n",
      "Program Manager-Risk Engineering\n",
      "Provide support in managing consultant contracts relating to risk management and value engineering, including scope development, negotiations, facilitation, and…\n",
      "-------------\n",
      "\n",
      "Preconstruction Engineer\n",
      "Requirements for these positions includeBS in Construction Management or related construction/engineering degrees.\n",
      "-------------\n",
      "\n",
      "Catheter Development Engineer\n",
      "Responsible for taking customer designs and specifications and interpreting for IntriCon process and QMS feasibility.\n",
      "-------------\n",
      "\n",
      "Engineering Program Facilitator I\n",
      "Basic knowledge of engineering fields and principles.\n",
      "-------------\n",
      "\n",
      "IT Business Analyst\n",
      "To assist in improving our hardware and software systems that drive our company's data infrastructure and operational efficiency.\n",
      "-------------\n",
      "\n",
      "2020 Fall Internships - Engineering\n",
      "Use engineering principles and fundamentals to provide novel solutions for technically challenging problems in the Internship focus area (Structural Design,…\n",
      "-------------\n",
      "\n",
      "Engineering Technician II (T2)\n",
      "Becomes familiar with current manufacturing and/or engineering processes.\n",
      "-------------\n",
      "\n",
      "Chiropractic Rehab tech\n",
      "The best candidates will have a background in Chiropractic, Physical Therapy, Personal Training, Kinesiology or Massage therapy.\n",
      "-------------\n",
      "\n",
      "Supply Chain Analyst (Entry Level 0-3 yrs experienced)\n",
      "SCM practice draws heavily from the areas of industrial engineering, systems engineering, operations management, logistics, procurement, information technology,…\n",
      "-------------\n",
      "\n",
      "Research Engineering/ Scientist Associate I\n",
      "Perform studies of retinal circuit development a variety of conventional and experimental techniques under development in the lab, participate in the collection…\n",
      "-------------\n",
      "\n",
      "Assembler II (O2)\n",
      "Follows work orders, schematics, wiring diagrams, engineering specifications, sketches, assembly shop and production operations sheets, parts and wire lists,…\n",
      "-------------\n",
      "\n",
      "Software Design Engineering Associate\n",
      "Bachelor's degree in computer science, computer engineering, electrical engineering or other related field.\n",
      "-------------\n",
      "\n",
      "Ads Moderation Specialist\n",
      "Responsible for non-China monetization integrity related work, follow the policy process strictly to handle the day-to-day work, deliver the solid safety…\n",
      "-------------\n",
      "\n",
      "Process Engineering Technician III\n",
      "Communicate issues to engineering for collaborative continuous improvements.\n",
      "-------------\n",
      "\n",
      "Software Engineering Intern\n",
      "Must have an interest in software engineering.\n",
      "-------------\n",
      "\n",
      "Plant Engineer\n",
      "Possess advanced technical skills in the mechanical/electrical fields (e.g. PLCs, instrumentation, mechanical engineering, etc.).\n",
      "-------------\n",
      "\n",
      "Engineering Draftsman\n",
      "We are seeking a qualified Draftsman to take responsibility for the drafting and modeling of equipment as specified by our clients.\n"
     ]
    }
   ],
   "source": [
    "# Loop through returned results\n",
    "for result in results:\n",
    "    \n",
    "    # Retrieve the thread title\n",
    "    title = result.find('h2', class_='title')\n",
    "    titles = title.a.text\n",
    "    des= result.find('div', class_='summary').ul.li.text\n",
    "    if (titles and des):\n",
    "                print('-------------')\n",
    "                print(titles)\n",
    "                print(des)\n"
   ]
  },
  {
   "cell_type": "code",
   "execution_count": null,
   "metadata": {},
   "outputs": [],
   "source": []
  },
  {
   "cell_type": "code",
   "execution_count": null,
   "metadata": {},
   "outputs": [],
   "source": []
  }
 ],
 "metadata": {
  "kernelspec": {
   "display_name": "Python 3",
   "language": "python",
   "name": "python3"
  },
  "language_info": {
   "codemirror_mode": {
    "name": "ipython",
    "version": 3
   },
   "file_extension": ".py",
   "mimetype": "text/x-python",
   "name": "python",
   "nbconvert_exporter": "python",
   "pygments_lexer": "ipython3",
   "version": "3.7.4"
  }
 },
 "nbformat": 4,
 "nbformat_minor": 4
}
